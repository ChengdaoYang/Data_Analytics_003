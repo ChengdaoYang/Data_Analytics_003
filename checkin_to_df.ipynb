{
 "cells": [
  {
   "cell_type": "code",
   "execution_count": 8,
   "metadata": {},
   "outputs": [],
   "source": [
    "import pickle\n",
    "import json\n",
    "import pandas as pd\n",
    "import numpy as np"
   ]
  },
  {
   "cell_type": "code",
   "execution_count": 14,
   "metadata": {},
   "outputs": [
    {
     "name": "stdout",
     "output_type": "stream",
     "text": [
      "business_id\n"
     ]
    },
    {
     "data": {
      "text/plain": [
       "(38117,)"
      ]
     },
     "execution_count": 14,
     "metadata": {},
     "output_type": "execute_result"
    }
   ],
   "source": [
    "# import filtered business_id as dataframe from pickle\n",
    "with open('data/yelp-dataset/df_business.pickle', 'rb') as fp:\n",
    "    df_business_id = pickle.load(fp)\n",
    "print(df_business_id.name)\n",
    "df_business_id.shape"
   ]
  },
  {
   "cell_type": "code",
   "execution_count": 10,
   "metadata": {},
   "outputs": [
    {
     "data": {
      "text/plain": [
       "'{\"time\":{\"Thu-0\":1,\"Mon-1\":1,\"Mon-12\":1,\"Sat-16\":1,\"Sun-22\":1,\"Fri-23\":1},\"business_id\":\"tJRDll5yqpZwehenzE2cSg\"}\\n'"
      ]
     },
     "execution_count": 10,
     "metadata": {},
     "output_type": "execute_result"
    }
   ],
   "source": [
    "# readin chechin json data\n",
    "with open('data/yelp-dataset/yelp_academic_dataset_checkin.json') as fp:\n",
    "    json_checkin = fp.readlines()  #cy：我不是很确定 readlines 合不合适。我assume了每个id都是单独的一行\n",
    "json_checkin[2]"
   ]
  },
  {
   "cell_type": "code",
   "execution_count": 26,
   "metadata": {},
   "outputs": [
    {
     "name": "stdout",
     "output_type": "stream",
     "text": [
      "before fileter (157075, 2)\n",
      "no NaN, as show in isna(): business_id    0\n",
      "time           0\n",
      "dtype: int64\n",
      "after filter (34181, 2)\n"
     ]
    },
    {
     "data": {
      "text/html": [
       "<div>\n",
       "<style scoped>\n",
       "    .dataframe tbody tr th:only-of-type {\n",
       "        vertical-align: middle;\n",
       "    }\n",
       "\n",
       "    .dataframe tbody tr th {\n",
       "        vertical-align: top;\n",
       "    }\n",
       "\n",
       "    .dataframe thead th {\n",
       "        text-align: right;\n",
       "    }\n",
       "</style>\n",
       "<table border=\"1\" class=\"dataframe\">\n",
       "  <thead>\n",
       "    <tr style=\"text-align: right;\">\n",
       "      <th></th>\n",
       "      <th>business_id</th>\n",
       "      <th>time</th>\n",
       "    </tr>\n",
       "  </thead>\n",
       "  <tbody>\n",
       "    <tr>\n",
       "      <th>378</th>\n",
       "      <td>lia867Aug7wdfpo5t86W3Q</td>\n",
       "      <td>{'Fri-0': 1}</td>\n",
       "    </tr>\n",
       "    <tr>\n",
       "      <th>516</th>\n",
       "      <td>8U6EmwNaeTnhKbhBgIZPGQ</td>\n",
       "      <td>{'Sun-0': 1, 'Fri-1': 3, 'Mon-1': 2, 'Sat-1': ...</td>\n",
       "    </tr>\n",
       "    <tr>\n",
       "      <th>517</th>\n",
       "      <td>KsYAGLP4yC7FbfixaeCHsA</td>\n",
       "      <td>{'Fri-0': 5, 'Mon-0': 2, 'Sat-0': 2, 'Sun-0': ...</td>\n",
       "    </tr>\n",
       "    <tr>\n",
       "      <th>518</th>\n",
       "      <td>bo3z3-WUNblcRKRrWqeTAg</td>\n",
       "      <td>{'Fri-0': 5, 'Mon-0': 3, 'Sun-0': 2, 'Thu-0': ...</td>\n",
       "    </tr>\n",
       "    <tr>\n",
       "      <th>519</th>\n",
       "      <td>72R6zu7hH6R-nfjvBkMUHQ</td>\n",
       "      <td>{'Mon-1': 1, 'Sun-4': 1, 'Tue-10': 1, 'Fri-15'...</td>\n",
       "    </tr>\n",
       "  </tbody>\n",
       "</table>\n",
       "</div>"
      ],
      "text/plain": [
       "                business_id                                               time\n",
       "378  lia867Aug7wdfpo5t86W3Q                                       {'Fri-0': 1}\n",
       "516  8U6EmwNaeTnhKbhBgIZPGQ  {'Sun-0': 1, 'Fri-1': 3, 'Mon-1': 2, 'Sat-1': ...\n",
       "517  KsYAGLP4yC7FbfixaeCHsA  {'Fri-0': 5, 'Mon-0': 2, 'Sat-0': 2, 'Sun-0': ...\n",
       "518  bo3z3-WUNblcRKRrWqeTAg  {'Fri-0': 5, 'Mon-0': 3, 'Sun-0': 2, 'Thu-0': ...\n",
       "519  72R6zu7hH6R-nfjvBkMUHQ  {'Mon-1': 1, 'Sun-4': 1, 'Tue-10': 1, 'Fri-15'..."
      ]
     },
     "execution_count": 26,
     "metadata": {},
     "output_type": "execute_result"
    }
   ],
   "source": [
    "# Create dataframe and filter it by 4 cities, using buesiness_id\n",
    "list_ = []\n",
    "for i_line in json_checkin:\n",
    "    list_.append(json.loads(i_line))\n",
    "    \n",
    "df_checkin = pd.DataFrame(list_)\n",
    "print('before fileter', df_checkin.shape)\n",
    "print('no NaN, as show in isna():', df_checkin.isna().sum())\n",
    "df_checkin = df_checkin[df_checkin['business_id'].isin(df_business_id)]\n",
    "print('after filter', df_checkin.shape)\n",
    "df_checkin.head()"
   ]
  },
  {
   "cell_type": "code",
   "execution_count": 25,
   "metadata": {},
   "outputs": [
    {
     "data": {
      "text/plain": [
       "{'Fri-0': 5,\n",
       " 'Mon-0': 3,\n",
       " 'Sun-0': 2,\n",
       " 'Thu-0': 4,\n",
       " 'Tue-0': 1,\n",
       " 'Wed-0': 4,\n",
       " 'Fri-1': 3,\n",
       " 'Mon-1': 1,\n",
       " 'Sat-1': 1,\n",
       " 'Sun-1': 4,\n",
       " 'Thu-1': 6,\n",
       " 'Tue-1': 2,\n",
       " 'Wed-1': 4,\n",
       " 'Sun-2': 1,\n",
       " 'Tue-2': 3,\n",
       " 'Mon-3': 1,\n",
       " 'Fri-4': 1,\n",
       " 'Tue-4': 1,\n",
       " 'Tue-7': 1,\n",
       " 'Fri-9': 31,\n",
       " 'Mon-9': 53,\n",
       " 'Sat-9': 27,\n",
       " 'Sun-9': 29,\n",
       " 'Thu-9': 37,\n",
       " 'Tue-9': 37,\n",
       " 'Wed-9': 37,\n",
       " 'Fri-10': 42,\n",
       " 'Mon-10': 27,\n",
       " 'Sat-10': 36,\n",
       " 'Sun-10': 33,\n",
       " 'Thu-10': 35,\n",
       " 'Tue-10': 38,\n",
       " 'Wed-10': 31,\n",
       " 'Fri-11': 10,\n",
       " 'Mon-11': 5,\n",
       " 'Sat-11': 18,\n",
       " 'Sun-11': 16,\n",
       " 'Thu-11': 8,\n",
       " 'Tue-11': 4,\n",
       " 'Wed-11': 11,\n",
       " 'Fri-12': 1,\n",
       " 'Mon-12': 3,\n",
       " 'Sat-12': 3,\n",
       " 'Sun-12': 9,\n",
       " 'Thu-12': 7,\n",
       " 'Tue-12': 5,\n",
       " 'Wed-12': 6,\n",
       " 'Fri-13': 2,\n",
       " 'Mon-13': 2,\n",
       " 'Sat-13': 4,\n",
       " 'Sun-13': 8,\n",
       " 'Thu-13': 4,\n",
       " 'Tue-13': 3,\n",
       " 'Wed-13': 3,\n",
       " 'Fri-14': 2,\n",
       " 'Mon-14': 3,\n",
       " 'Sat-14': 8,\n",
       " 'Sun-14': 12,\n",
       " 'Thu-14': 2,\n",
       " 'Tue-14': 5,\n",
       " 'Wed-14': 3,\n",
       " 'Fri-15': 4,\n",
       " 'Mon-15': 4,\n",
       " 'Sat-15': 11,\n",
       " 'Sun-15': 6,\n",
       " 'Thu-15': 8,\n",
       " 'Tue-15': 2,\n",
       " 'Wed-15': 6,\n",
       " 'Fri-16': 4,\n",
       " 'Mon-16': 3,\n",
       " 'Sat-16': 6,\n",
       " 'Sun-16': 10,\n",
       " 'Thu-16': 6,\n",
       " 'Tue-16': 3,\n",
       " 'Wed-16': 3,\n",
       " 'Mon-17': 3,\n",
       " 'Sat-17': 6,\n",
       " 'Sun-17': 15,\n",
       " 'Thu-17': 3,\n",
       " 'Tue-17': 4,\n",
       " 'Wed-17': 5,\n",
       " 'Fri-18': 3,\n",
       " 'Mon-18': 3,\n",
       " 'Sat-18': 4,\n",
       " 'Sun-18': 15,\n",
       " 'Thu-18': 3,\n",
       " 'Tue-18': 1,\n",
       " 'Wed-18': 4,\n",
       " 'Fri-19': 4,\n",
       " 'Mon-19': 10,\n",
       " 'Sat-19': 5,\n",
       " 'Sun-19': 8,\n",
       " 'Thu-19': 4,\n",
       " 'Tue-19': 6,\n",
       " 'Wed-19': 3,\n",
       " 'Fri-20': 5,\n",
       " 'Mon-20': 12,\n",
       " 'Sat-20': 4,\n",
       " 'Sun-20': 3,\n",
       " 'Thu-20': 14,\n",
       " 'Tue-20': 1,\n",
       " 'Wed-20': 7,\n",
       " 'Fri-21': 8,\n",
       " 'Mon-21': 6,\n",
       " 'Sat-21': 3,\n",
       " 'Sun-21': 5,\n",
       " 'Thu-21': 5,\n",
       " 'Tue-21': 4,\n",
       " 'Wed-21': 2,\n",
       " 'Fri-22': 2,\n",
       " 'Mon-22': 2,\n",
       " 'Sat-22': 4,\n",
       " 'Sun-22': 2,\n",
       " 'Thu-22': 3,\n",
       " 'Tue-22': 1,\n",
       " 'Wed-22': 6,\n",
       " 'Fri-23': 5,\n",
       " 'Mon-23': 2,\n",
       " 'Sat-23': 6,\n",
       " 'Sun-23': 2,\n",
       " 'Tue-23': 4,\n",
       " 'Wed-23': 9}"
      ]
     },
     "execution_count": 25,
     "metadata": {},
     "output_type": "execute_result"
    }
   ],
   "source": [
    "df_checkin.time.iloc[3]"
   ]
  },
  {
   "cell_type": "code",
   "execution_count": null,
   "metadata": {},
   "outputs": [],
   "source": []
  }
 ],
 "metadata": {
  "kernelspec": {
   "display_name": "Python 3",
   "language": "python",
   "name": "python3"
  },
  "language_info": {
   "codemirror_mode": {
    "name": "ipython",
    "version": 3
   },
   "file_extension": ".py",
   "mimetype": "text/x-python",
   "name": "python",
   "nbconvert_exporter": "python",
   "pygments_lexer": "ipython3",
   "version": "3.6.4"
  }
 },
 "nbformat": 4,
 "nbformat_minor": 2
}
