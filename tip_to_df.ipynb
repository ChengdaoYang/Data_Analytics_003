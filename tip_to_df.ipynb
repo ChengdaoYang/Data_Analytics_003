{
 "cells": [
  {
   "cell_type": "code",
   "execution_count": 1,
   "metadata": {},
   "outputs": [],
   "source": [
    "import pandas as pd\n",
    "import numpy as np\n",
    "import pickle\n",
    "import json"
   ]
  },
  {
   "cell_type": "code",
   "execution_count": 2,
   "metadata": {},
   "outputs": [
    {
     "name": "stdout",
     "output_type": "stream",
     "text": [
      "business_id\n"
     ]
    },
    {
     "data": {
      "text/plain": [
       "(38117,)"
      ]
     },
     "execution_count": 2,
     "metadata": {},
     "output_type": "execute_result"
    }
   ],
   "source": [
    "# import filtered business_id as dataframe from pickle\n",
    "with open('data/yelp-dataset/df_business.pickle', 'rb') as fp:\n",
    "    df_business_id = pickle.load(fp)\n",
    "print(df_business_id.name)\n",
    "df_business_id.shape"
   ]
  },
  {
   "cell_type": "code",
   "execution_count": 3,
   "metadata": {},
   "outputs": [
    {
     "data": {
      "text/plain": [
       "['{\"text\":\"Get here early enough to have dinner.\",\"date\":\"2012-07-15\",\"likes\":0,\"business_id\":\"tJRDll5yqpZwehenzE2cSg\",\"user_id\":\"zcTZk7OG8ovAmh_fenH21g\"}\\n']"
      ]
     },
     "execution_count": 3,
     "metadata": {},
     "output_type": "execute_result"
    }
   ],
   "source": [
    "# readin tip.json\n",
    "with open('data/yelp-dataset/yelp_academic_dataset_tip.json') as fp:\n",
    "    json_tip = fp.readlines()\n",
    "json_tip[:1]"
   ]
  },
  {
   "cell_type": "code",
   "execution_count": 4,
   "metadata": {},
   "outputs": [
    {
     "name": "stdout",
     "output_type": "stream",
     "text": [
      "before fileter (1185348, 5)\n",
      "no NaN, as show in isna(): business_id    0\n",
      "date           0\n",
      "likes          0\n",
      "text           0\n",
      "user_id        0\n",
      "dtype: int64\n",
      "after filter (472976, 5)\n"
     ]
    },
    {
     "data": {
      "text/html": [
       "<div>\n",
       "<style scoped>\n",
       "    .dataframe tbody tr th:only-of-type {\n",
       "        vertical-align: middle;\n",
       "    }\n",
       "\n",
       "    .dataframe tbody tr th {\n",
       "        vertical-align: top;\n",
       "    }\n",
       "\n",
       "    .dataframe thead th {\n",
       "        text-align: right;\n",
       "    }\n",
       "</style>\n",
       "<table border=\"1\" class=\"dataframe\">\n",
       "  <thead>\n",
       "    <tr style=\"text-align: right;\">\n",
       "      <th></th>\n",
       "      <th>business_id</th>\n",
       "      <th>date</th>\n",
       "      <th>likes</th>\n",
       "      <th>text</th>\n",
       "      <th>user_id</th>\n",
       "    </tr>\n",
       "  </thead>\n",
       "  <tbody>\n",
       "    <tr>\n",
       "      <th>53</th>\n",
       "      <td>QFPS9JBNdOOHVP0C3pSslw</td>\n",
       "      <td>2012-08-22</td>\n",
       "      <td>0</td>\n",
       "      <td>The place to go after work, but, it ain't cheap</td>\n",
       "      <td>TvkqJ8YEIsTb16RnnrNyfQ</td>\n",
       "    </tr>\n",
       "    <tr>\n",
       "      <th>131</th>\n",
       "      <td>MTsIckdo3_uKuqk3B4zuKA</td>\n",
       "      <td>2012-10-20</td>\n",
       "      <td>0</td>\n",
       "      <td>The Cleveland Pickle is the best sandwich deli...</td>\n",
       "      <td>MolXvMRbUNY6Yr_s0zEQ0A</td>\n",
       "    </tr>\n",
       "    <tr>\n",
       "      <th>216</th>\n",
       "      <td>gh6__q2WXFuyN8gt6VAnWw</td>\n",
       "      <td>2016-04-11</td>\n",
       "      <td>0</td>\n",
       "      <td>Pittsburgh says:  GREAT FOOD!  Thanks, Luby!</td>\n",
       "      <td>PZNMPWCViVX8JLsn10MSnQ</td>\n",
       "    </tr>\n",
       "    <tr>\n",
       "      <th>399</th>\n",
       "      <td>uv-e-d43NN-1_DcCoJL-Og</td>\n",
       "      <td>2011-11-26</td>\n",
       "      <td>0</td>\n",
       "      <td>Christmas doing for Judee do.e</td>\n",
       "      <td>blrWvPePSv87aU9hV1Zd8Q</td>\n",
       "    </tr>\n",
       "    <tr>\n",
       "      <th>401</th>\n",
       "      <td>0youcKV6-eE3F2MQj1l6Fw</td>\n",
       "      <td>2010-11-25</td>\n",
       "      <td>0</td>\n",
       "      <td>A bit different. Out at a restaurant for Thank...</td>\n",
       "      <td>blrWvPePSv87aU9hV1Zd8Q</td>\n",
       "    </tr>\n",
       "  </tbody>\n",
       "</table>\n",
       "</div>"
      ],
      "text/plain": [
       "                business_id        date  likes  \\\n",
       "53   QFPS9JBNdOOHVP0C3pSslw  2012-08-22      0   \n",
       "131  MTsIckdo3_uKuqk3B4zuKA  2012-10-20      0   \n",
       "216  gh6__q2WXFuyN8gt6VAnWw  2016-04-11      0   \n",
       "399  uv-e-d43NN-1_DcCoJL-Og  2011-11-26      0   \n",
       "401  0youcKV6-eE3F2MQj1l6Fw  2010-11-25      0   \n",
       "\n",
       "                                                  text                 user_id  \n",
       "53     The place to go after work, but, it ain't cheap  TvkqJ8YEIsTb16RnnrNyfQ  \n",
       "131  The Cleveland Pickle is the best sandwich deli...  MolXvMRbUNY6Yr_s0zEQ0A  \n",
       "216       Pittsburgh says:  GREAT FOOD!  Thanks, Luby!  PZNMPWCViVX8JLsn10MSnQ  \n",
       "399                     Christmas doing for Judee do.e  blrWvPePSv87aU9hV1Zd8Q  \n",
       "401  A bit different. Out at a restaurant for Thank...  blrWvPePSv87aU9hV1Zd8Q  "
      ]
     },
     "execution_count": 4,
     "metadata": {},
     "output_type": "execute_result"
    }
   ],
   "source": [
    "# Create dataframe and filter by cities\n",
    "list_ = []\n",
    "for i_line in json_tip:\n",
    "    list_.append(json.loads(i_line))\n",
    "df_tip = pd.DataFrame(list_)\n",
    "print('before fileter', df_tip.shape)\n",
    "print('no NaN, as show in isna():', df_tip.isna().sum())\n",
    "df_tip = df_tip[df_tip['business_id'].isin(df_business_id)]\n",
    "print('after filter', df_tip.shape)\n",
    "df_tip.head()\n",
    "    "
   ]
  },
  {
   "cell_type": "code",
   "execution_count": null,
   "metadata": {},
   "outputs": [],
   "source": []
  }
 ],
 "metadata": {
  "kernelspec": {
   "display_name": "Python 3",
   "language": "python",
   "name": "python3"
  },
  "language_info": {
   "codemirror_mode": {
    "name": "ipython",
    "version": 3
   },
   "file_extension": ".py",
   "mimetype": "text/x-python",
   "name": "python",
   "nbconvert_exporter": "python",
   "pygments_lexer": "ipython3",
   "version": "3.6.4"
  }
 },
 "nbformat": 4,
 "nbformat_minor": 2
}
